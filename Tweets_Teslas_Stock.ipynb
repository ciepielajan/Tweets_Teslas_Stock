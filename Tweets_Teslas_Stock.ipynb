{
  "nbformat": 4,
  "nbformat_minor": 0,
  "metadata": {
    "anaconda-cloud": {},
    "kernelspec": {
      "display_name": "Python [Root]",
      "language": "python",
      "name": "Python [Root]"
    },
    "language_info": {
      "codemirror_mode": {
        "name": "ipython",
        "version": 2
      },
      "file_extension": ".py",
      "mimetype": "text/x-python",
      "name": "python",
      "nbconvert_exporter": "python",
      "pygments_lexer": "ipython2",
      "version": "2.7.12"
    },
    "colab": {
      "name": "search for hashtags Scraping Twitter Data.ipynb",
      "provenance": [],
      "collapsed_sections": [],
      "include_colab_link": true
    }
  },
  "cells": [
    {
      "cell_type": "markdown",
      "metadata": {
        "id": "view-in-github",
        "colab_type": "text"
      },
      "source": [
        "<a href=\"https://colab.research.google.com/github/ciepielajan/Tweets_Teslas_Stock/blob/main/Tweets_Teslas_Stock.ipynb\" target=\"_parent\"><img src=\"https://colab.research.google.com/assets/colab-badge.svg\" alt=\"Open In Colab\"/></a>"
      ]
    },
    {
      "cell_type": "code",
      "metadata": {
        "collapsed": true,
        "id": "aykRbTl8N4pu"
      },
      "source": [
        "import json\n",
        "import csv\n",
        "import tweepy\n",
        "import re\n",
        "import pandas as pd\n",
        "from textblob import TextBlob"
      ],
      "execution_count": 1,
      "outputs": []
    },
    {
      "cell_type": "code",
      "metadata": {
        "id": "xtyIxHifQDNX"
      },
      "source": [
        "consumer_key = 'R7DGimRNkT11sbngA0MRqLmNE'\n",
        "consumer_secret = 'w5Axtw43feejwgmPIhqPhPOt1aHso1Guw1yuFwlmijtlh0vguK'\n",
        "access_token = '1279486577656295425-l3gaKqKuHQdKl44rPXUc0WYcc26wgq'\n",
        "access_token_secret = '80dGAdcx6LuoWM1mSt669V5NESP0EOuX1dK8Mianjqxi2'"
      ],
      "execution_count": 2,
      "outputs": []
    },
    {
      "cell_type": "code",
      "metadata": {
        "id": "iBJAMvJcRa8V"
      },
      "source": [
        "# hashtag_phrase =\"tesla\"\n",
        "hashtag_phrase =\"#TSLA\""
      ],
      "execution_count": 3,
      "outputs": []
    },
    {
      "cell_type": "code",
      "metadata": {
        "id": "nibe_CeiN4qA"
      },
      "source": [
        "#create authentication for accessing Twitter\n",
        "auth = tweepy.OAuthHandler(consumer_key, consumer_secret)\n",
        "auth.set_access_token(access_token, access_token_secret)\n",
        "\n",
        "#initialize Tweepy API\n",
        "api = tweepy.API(auth)"
      ],
      "execution_count": 4,
      "outputs": []
    },
    {
      "cell_type": "code",
      "metadata": {
        "id": "9Xw3IPrHSCoh"
      },
      "source": [
        "data = []\n",
        "for tweet in tweepy.Cursor(api.search, q=hashtag_phrase+' -filter:retweets',  lang=\"en\", tweet_mode='extended').items(1000):\n",
        "# for tweet in tweepy.Cursor(api.search, q=hashtag_phrase,  lang=\"en\", since=date_since,  until=date_until, tweet_mode='extended').items(1000):      \n",
        "# for tweet in tweepy.Cursor(api.search, q=hashtag_phrase,  lang=\"en\", since=date_since,  until=date_until, tweet_mode='extended').items(1000):      \n",
        "# for tweet in tweepy.Cursor(api.search, q=hashtag_phrase,  lang=\"en\", tweet_mode='extended').items(1000):      \n",
        "    data.append(\n",
        "        [tweet.id_str,\n",
        "        tweet.created_at,   # create post\n",
        "        tweet.full_text.replace('\\n',' '),   #text\n",
        "        # tweet.user.screen_name,      #user name\n",
        "        # [e['text'] for e in tweet._json['entities']['hashtags']],   #hastags\n",
        "        # tweet.user.followers_count            # followers\n",
        "        ]    )"
      ],
      "execution_count": 5,
      "outputs": []
    },
    {
      "cell_type": "code",
      "metadata": {
        "id": "Y_wkIR1pZMfD"
      },
      "source": [
        ""
      ],
      "execution_count": 5,
      "outputs": []
    },
    {
      "cell_type": "code",
      "metadata": {
        "id": "OA0E0VNUUwYm"
      },
      "source": [
        "# import datetime"
      ],
      "execution_count": 6,
      "outputs": []
    },
    {
      "cell_type": "code",
      "metadata": {
        "id": "0o35hppdUkwT"
      },
      "source": [
        "# date_since = datetime.datetime(2021, 1, 1, 0, 0, 0)\n",
        "# date_until =   datetime.datetime(2021, 2, 1, 0, 0, 0)"
      ],
      "execution_count": 7,
      "outputs": []
    },
    {
      "cell_type": "code",
      "metadata": {
        "id": "fVy2kMUDXRs3"
      },
      "source": [
        "# # https://stackoverflow.com/questions/63482108/using-search-full-archive-in-tweepy\n",
        "# search_words = hashtag_phrase\n",
        "# # date_since = \"13-08-2020\"\n",
        "# date_since = \"202008130000\"\n",
        "# date_since_pro = \"202008130000\"\n",
        "# numTweets = 100\n",
        "\n",
        "# # # standart search\n",
        "# # for i in  tweepy.Cursor(api.search, q=search_words, since=date_since).items(numTweets):\n",
        "# #   print(i)\n",
        "# # premium search\n",
        "# for i in  tweepy.Cursor(api.search_full_archive,environment_name='**ENV NAME FROM API**', query=search_words, fromDate=date_since_pro).items(numTweets):\n",
        "#     print(i)"
      ],
      "execution_count": 8,
      "outputs": []
    },
    {
      "cell_type": "code",
      "metadata": {
        "colab": {
          "base_uri": "https://localhost:8080/",
          "height": 198
        },
        "id": "Lr7rVttYS72E",
        "outputId": "a637739b-274e-4004-ac36-f4cc60ff4acf"
      },
      "source": [
        "df_tweets = pd.DataFrame(data, columns=[\"tweet_id\",\"date\",\"tweet_row\"])\n",
        "df_tweets.head(5)"
      ],
      "execution_count": 9,
      "outputs": [
        {
          "output_type": "execute_result",
          "data": {
            "text/html": [
              "<div>\n",
              "<style scoped>\n",
              "    .dataframe tbody tr th:only-of-type {\n",
              "        vertical-align: middle;\n",
              "    }\n",
              "\n",
              "    .dataframe tbody tr th {\n",
              "        vertical-align: top;\n",
              "    }\n",
              "\n",
              "    .dataframe thead th {\n",
              "        text-align: right;\n",
              "    }\n",
              "</style>\n",
              "<table border=\"1\" class=\"dataframe\">\n",
              "  <thead>\n",
              "    <tr style=\"text-align: right;\">\n",
              "      <th></th>\n",
              "      <th>tweet_id</th>\n",
              "      <th>date</th>\n",
              "      <th>tweet_row</th>\n",
              "    </tr>\n",
              "  </thead>\n",
              "  <tbody>\n",
              "    <tr>\n",
              "      <th>0</th>\n",
              "      <td>1377026356798701573</td>\n",
              "      <td>2021-03-30 22:34:02</td>\n",
              "      <td>Looking like $TSLA $BIDU $SQ $VIAC are all rec...</td>\n",
              "    </tr>\n",
              "    <tr>\n",
              "      <th>1</th>\n",
              "      <td>1377025544596905986</td>\n",
              "      <td>2021-03-30 22:30:48</td>\n",
              "      <td>We did see the Nasdaq bounce higher Friday aft...</td>\n",
              "    </tr>\n",
              "    <tr>\n",
              "      <th>2</th>\n",
              "      <td>1377023613325426689</td>\n",
              "      <td>2021-03-30 22:23:07</td>\n",
              "      <td>How does everyone feel on CSCW ? #CSCW $CSCW i...</td>\n",
              "    </tr>\n",
              "    <tr>\n",
              "      <th>3</th>\n",
              "      <td>1377021617323323393</td>\n",
              "      <td>2021-03-30 22:15:12</td>\n",
              "      <td>In this market we call it \"So bearish its has ...</td>\n",
              "    </tr>\n",
              "    <tr>\n",
              "      <th>4</th>\n",
              "      <td>1377019898510118916</td>\n",
              "      <td>2021-03-30 22:08:22</td>\n",
              "      <td>I TOLD U ALL $TSLA #TSLA  #Tesla</td>\n",
              "    </tr>\n",
              "  </tbody>\n",
              "</table>\n",
              "</div>"
            ],
            "text/plain": [
              "              tweet_id  ...                                          tweet_row\n",
              "0  1377026356798701573  ...  Looking like $TSLA $BIDU $SQ $VIAC are all rec...\n",
              "1  1377025544596905986  ...  We did see the Nasdaq bounce higher Friday aft...\n",
              "2  1377023613325426689  ...  How does everyone feel on CSCW ? #CSCW $CSCW i...\n",
              "3  1377021617323323393  ...  In this market we call it \"So bearish its has ...\n",
              "4  1377019898510118916  ...                   I TOLD U ALL $TSLA #TSLA  #Tesla\n",
              "\n",
              "[5 rows x 3 columns]"
            ]
          },
          "metadata": {
            "tags": []
          },
          "execution_count": 9
        }
      ]
    },
    {
      "cell_type": "code",
      "metadata": {
        "colab": {
          "base_uri": "https://localhost:8080/"
        },
        "id": "byY4vHTVDgdf",
        "outputId": "e9c3c6ae-6ead-4677-9f67-6effaa155e7c"
      },
      "source": [
        "print(\"ilość tweetów:\", len(df_tweets.index))\n",
        "print(\"od:\", df_tweets.date.min())\n",
        "print(\"do:\", df_tweets.date.max())"
      ],
      "execution_count": 10,
      "outputs": [
        {
          "output_type": "stream",
          "text": [
            "ilość tweetów: 1000\n",
            "od: 2021-03-25 13:57:53\n",
            "do: 2021-03-30 22:34:02\n"
          ],
          "name": "stdout"
        }
      ]
    },
    {
      "cell_type": "code",
      "metadata": {
        "id": "ipjcHX2TSl7l"
      },
      "source": [
        "def clear_tweet(sentence):\n",
        "    sentence = re.sub(r\"<[^>]+>\", \" \", sentence) # remove html tag - na początku żeby nie usunął później placeholderów\n",
        "\n",
        "    #placehodlery\n",
        "    sentence = re.sub('[\\w\\.-]+@[\\w\\.-]+', '  ', sentence)  # maile\n",
        "    sentence = re.sub('(https://|http://|)+[A-Za-z]+\\.+[A-Za-z]+(\\S)+', '  ', sentence)  # linki\n",
        "    sentence = re.sub('([0-9]{4}|[0-9]{2}|[0-9]{1})(\\.|\\-|\\/)([0-9]{4}|[0-9]{2}|[0-9]{1})(\\.|\\-|\\/)([0-9]{4}|[0-9]{2}|[0-9]{1})', '  ', sentence)  # date\n",
        "    sentence = re.sub('[0-9]{1,2}(\\:|am|pm| am| pm)([0-9]{1,2}|\\:|am|pm|)([0-9]{1,2}|\\:|am|pm| am| pm|)(([0-9]{1,10})?)', '  ', sentence)  # time\n",
        "    sentence = re.sub('\\s\\d+(,\\d+)*(\\.\\d+)?(\\%)?\\s', '  ', sentence)  # number\n",
        "    sentence = re.sub('@[A-Za-z0-9\\.]+', ' ', sentence)  # @montion\n",
        "    sentence = re.sub('#[A-Za-z0-9]+', ' ', sentence)  # #hastag\n",
        "\n",
        "    #czyszczenie\n",
        "    sentence = re.sub(r\"[^a-zA-Z\\s]\", \"\", sentence)  # remove punctuations and numbers   nie usuwać <PLACEHOLDERÓW>\n",
        "    sentence = re.sub(r\"\\b[A-Za-z]{1}\\b\", \"\", sentence)  # remove single characters\n",
        "    sentence = re.sub(\"^\\s+|\\s+$\", \"\", sentence, flags=re.UNICODE) # Remove spaces both in the BEGINNING and in the END of a string:\n",
        "    sentence = re.sub(\"\\s+\", \" \", sentence, flags=re.UNICODE) # Remove spaces both in the BEGINNING and in the END of a string:\n",
        "\n",
        "    # sentence = \" \".join(sentence.split(\" \"))  # Remove ONLY DUPLICATE spaces:\n",
        "    # sentence = \" \".join(sentence) # Remove ONLY DUPLICATE spaces:\n",
        "    sentence = sentence.lower()\n",
        "\n",
        "    return sentence"
      ],
      "execution_count": 11,
      "outputs": []
    },
    {
      "cell_type": "code",
      "metadata": {
        "colab": {
          "base_uri": "https://localhost:8080/",
          "height": 407
        },
        "id": "BoetBQNcVare",
        "outputId": "3152fd87-82bf-4ebe-d0d5-c63f90d45722"
      },
      "source": [
        "df_tweets[\"tweet_clean\"] = df_tweets[\"tweet_row\"].apply(lambda x: clear_tweet(x))\n",
        "df_tweets[\"sentiment_polarity\"] = df_tweets[\"tweet_clean\"].apply(lambda x: TextBlob(x).sentiment.polarity)\n",
        "df_tweets[\"sentiment_subjectivity\"] = df_tweets[\"tweet_clean\"].apply(lambda x: TextBlob(x).sentiment.subjectivity)\n",
        "df_tweets"
      ],
      "execution_count": 12,
      "outputs": [
        {
          "output_type": "execute_result",
          "data": {
            "text/html": [
              "<div>\n",
              "<style scoped>\n",
              "    .dataframe tbody tr th:only-of-type {\n",
              "        vertical-align: middle;\n",
              "    }\n",
              "\n",
              "    .dataframe tbody tr th {\n",
              "        vertical-align: top;\n",
              "    }\n",
              "\n",
              "    .dataframe thead th {\n",
              "        text-align: right;\n",
              "    }\n",
              "</style>\n",
              "<table border=\"1\" class=\"dataframe\">\n",
              "  <thead>\n",
              "    <tr style=\"text-align: right;\">\n",
              "      <th></th>\n",
              "      <th>tweet_id</th>\n",
              "      <th>date</th>\n",
              "      <th>tweet_row</th>\n",
              "      <th>tweet_clean</th>\n",
              "      <th>sentiment_polarity</th>\n",
              "      <th>sentiment_subjectivity</th>\n",
              "    </tr>\n",
              "  </thead>\n",
              "  <tbody>\n",
              "    <tr>\n",
              "      <th>0</th>\n",
              "      <td>1377026356798701573</td>\n",
              "      <td>2021-03-30 22:34:02</td>\n",
              "      <td>Looking like $TSLA $BIDU $SQ $VIAC are all rec...</td>\n",
              "      <td>looking like tsla bidu sq viac are all recover...</td>\n",
              "      <td>0.130556</td>\n",
              "      <td>0.675000</td>\n",
              "    </tr>\n",
              "    <tr>\n",
              "      <th>1</th>\n",
              "      <td>1377025544596905986</td>\n",
              "      <td>2021-03-30 22:30:48</td>\n",
              "      <td>We did see the Nasdaq bounce higher Friday aft...</td>\n",
              "      <td>we did see the nasdaq bounce higher friday aft...</td>\n",
              "      <td>0.137500</td>\n",
              "      <td>0.437500</td>\n",
              "    </tr>\n",
              "    <tr>\n",
              "      <th>2</th>\n",
              "      <td>1377023613325426689</td>\n",
              "      <td>2021-03-30 22:23:07</td>\n",
              "      <td>How does everyone feel on CSCW ? #CSCW $CSCW i...</td>\n",
              "      <td>how does everyone feel on cscw cscw its listed...</td>\n",
              "      <td>-0.016667</td>\n",
              "      <td>0.600000</td>\n",
              "    </tr>\n",
              "    <tr>\n",
              "      <th>3</th>\n",
              "      <td>1377021617323323393</td>\n",
              "      <td>2021-03-30 22:15:12</td>\n",
              "      <td>In this market we call it \"So bearish its has ...</td>\n",
              "      <td>in this market we call it so bearish its has t...</td>\n",
              "      <td>0.000000</td>\n",
              "      <td>0.000000</td>\n",
              "    </tr>\n",
              "    <tr>\n",
              "      <th>4</th>\n",
              "      <td>1377019898510118916</td>\n",
              "      <td>2021-03-30 22:08:22</td>\n",
              "      <td>I TOLD U ALL $TSLA #TSLA  #Tesla</td>\n",
              "      <td>told all tsla</td>\n",
              "      <td>0.000000</td>\n",
              "      <td>0.000000</td>\n",
              "    </tr>\n",
              "    <tr>\n",
              "      <th>...</th>\n",
              "      <td>...</td>\n",
              "      <td>...</td>\n",
              "      <td>...</td>\n",
              "      <td>...</td>\n",
              "      <td>...</td>\n",
              "      <td>...</td>\n",
              "    </tr>\n",
              "    <tr>\n",
              "      <th>995</th>\n",
              "      <td>1375086911769862150</td>\n",
              "      <td>2021-03-25 14:07:22</td>\n",
              "      <td>Entry Alert: BTO $RH 3/26 $530.00C @ $4.50 🚩  ...</td>\n",
              "      <td>entry alert bto rh btc tsla spy</td>\n",
              "      <td>0.000000</td>\n",
              "      <td>0.000000</td>\n",
              "    </tr>\n",
              "    <tr>\n",
              "      <th>996</th>\n",
              "      <td>1375086059760025604</td>\n",
              "      <td>2021-03-25 14:03:59</td>\n",
              "      <td>New Video out on TESLA: https://t.co/SXwwwLjlV...</td>\n",
              "      <td>new video out on tesla</td>\n",
              "      <td>0.136364</td>\n",
              "      <td>0.454545</td>\n",
              "    </tr>\n",
              "    <tr>\n",
              "      <th>997</th>\n",
              "      <td>1375085932202881024</td>\n",
              "      <td>2021-03-25 14:03:28</td>\n",
              "      <td>Tesla increases price of Model 3 – its 3rd pri...</td>\n",
              "      <td>tesla increases price of model its rd price ch...</td>\n",
              "      <td>0.000000</td>\n",
              "      <td>0.000000</td>\n",
              "    </tr>\n",
              "    <tr>\n",
              "      <th>998</th>\n",
              "      <td>1375084703196217350</td>\n",
              "      <td>2021-03-25 13:58:35</td>\n",
              "      <td>I noticed this weekend that #tsla is now showi...</td>\n",
              "      <td>noticed this weekend that is now showing avail...</td>\n",
              "      <td>0.268182</td>\n",
              "      <td>0.427273</td>\n",
              "    </tr>\n",
              "    <tr>\n",
              "      <th>999</th>\n",
              "      <td>1375084524342812673</td>\n",
              "      <td>2021-03-25 13:57:53</td>\n",
              "      <td>Buy some EV stock you tight fuckers!  #solo #n...</td>\n",
              "      <td>buy some ev stock you tight fuckers</td>\n",
              "      <td>-0.178571</td>\n",
              "      <td>0.285714</td>\n",
              "    </tr>\n",
              "  </tbody>\n",
              "</table>\n",
              "<p>1000 rows × 6 columns</p>\n",
              "</div>"
            ],
            "text/plain": [
              "                tweet_id  ... sentiment_subjectivity\n",
              "0    1377026356798701573  ...               0.675000\n",
              "1    1377025544596905986  ...               0.437500\n",
              "2    1377023613325426689  ...               0.600000\n",
              "3    1377021617323323393  ...               0.000000\n",
              "4    1377019898510118916  ...               0.000000\n",
              "..                   ...  ...                    ...\n",
              "995  1375086911769862150  ...               0.000000\n",
              "996  1375086059760025604  ...               0.454545\n",
              "997  1375085932202881024  ...               0.000000\n",
              "998  1375084703196217350  ...               0.427273\n",
              "999  1375084524342812673  ...               0.285714\n",
              "\n",
              "[1000 rows x 6 columns]"
            ]
          },
          "metadata": {
            "tags": []
          },
          "execution_count": 12
        }
      ]
    },
    {
      "cell_type": "code",
      "metadata": {
        "colab": {
          "base_uri": "https://localhost:8080/",
          "height": 407
        },
        "id": "GtJ1AkqzlMJy",
        "outputId": "23314b4f-9888-453a-f778-859b0ac0c4bc"
      },
      "source": [
        "df_tweets[\"sentiment_polarity_score\"] = df_tweets[\"sentiment_polarity\"].apply(lambda x: round(x,0))\n",
        "df_tweets"
      ],
      "execution_count": 13,
      "outputs": [
        {
          "output_type": "execute_result",
          "data": {
            "text/html": [
              "<div>\n",
              "<style scoped>\n",
              "    .dataframe tbody tr th:only-of-type {\n",
              "        vertical-align: middle;\n",
              "    }\n",
              "\n",
              "    .dataframe tbody tr th {\n",
              "        vertical-align: top;\n",
              "    }\n",
              "\n",
              "    .dataframe thead th {\n",
              "        text-align: right;\n",
              "    }\n",
              "</style>\n",
              "<table border=\"1\" class=\"dataframe\">\n",
              "  <thead>\n",
              "    <tr style=\"text-align: right;\">\n",
              "      <th></th>\n",
              "      <th>tweet_id</th>\n",
              "      <th>date</th>\n",
              "      <th>tweet_row</th>\n",
              "      <th>tweet_clean</th>\n",
              "      <th>sentiment_polarity</th>\n",
              "      <th>sentiment_subjectivity</th>\n",
              "      <th>sentiment_polarity_score</th>\n",
              "    </tr>\n",
              "  </thead>\n",
              "  <tbody>\n",
              "    <tr>\n",
              "      <th>0</th>\n",
              "      <td>1377026356798701573</td>\n",
              "      <td>2021-03-30 22:34:02</td>\n",
              "      <td>Looking like $TSLA $BIDU $SQ $VIAC are all rec...</td>\n",
              "      <td>looking like tsla bidu sq viac are all recover...</td>\n",
              "      <td>0.130556</td>\n",
              "      <td>0.675000</td>\n",
              "      <td>0.0</td>\n",
              "    </tr>\n",
              "    <tr>\n",
              "      <th>1</th>\n",
              "      <td>1377025544596905986</td>\n",
              "      <td>2021-03-30 22:30:48</td>\n",
              "      <td>We did see the Nasdaq bounce higher Friday aft...</td>\n",
              "      <td>we did see the nasdaq bounce higher friday aft...</td>\n",
              "      <td>0.137500</td>\n",
              "      <td>0.437500</td>\n",
              "      <td>0.0</td>\n",
              "    </tr>\n",
              "    <tr>\n",
              "      <th>2</th>\n",
              "      <td>1377023613325426689</td>\n",
              "      <td>2021-03-30 22:23:07</td>\n",
              "      <td>How does everyone feel on CSCW ? #CSCW $CSCW i...</td>\n",
              "      <td>how does everyone feel on cscw cscw its listed...</td>\n",
              "      <td>-0.016667</td>\n",
              "      <td>0.600000</td>\n",
              "      <td>-0.0</td>\n",
              "    </tr>\n",
              "    <tr>\n",
              "      <th>3</th>\n",
              "      <td>1377021617323323393</td>\n",
              "      <td>2021-03-30 22:15:12</td>\n",
              "      <td>In this market we call it \"So bearish its has ...</td>\n",
              "      <td>in this market we call it so bearish its has t...</td>\n",
              "      <td>0.000000</td>\n",
              "      <td>0.000000</td>\n",
              "      <td>0.0</td>\n",
              "    </tr>\n",
              "    <tr>\n",
              "      <th>4</th>\n",
              "      <td>1377019898510118916</td>\n",
              "      <td>2021-03-30 22:08:22</td>\n",
              "      <td>I TOLD U ALL $TSLA #TSLA  #Tesla</td>\n",
              "      <td>told all tsla</td>\n",
              "      <td>0.000000</td>\n",
              "      <td>0.000000</td>\n",
              "      <td>0.0</td>\n",
              "    </tr>\n",
              "    <tr>\n",
              "      <th>...</th>\n",
              "      <td>...</td>\n",
              "      <td>...</td>\n",
              "      <td>...</td>\n",
              "      <td>...</td>\n",
              "      <td>...</td>\n",
              "      <td>...</td>\n",
              "      <td>...</td>\n",
              "    </tr>\n",
              "    <tr>\n",
              "      <th>995</th>\n",
              "      <td>1375086911769862150</td>\n",
              "      <td>2021-03-25 14:07:22</td>\n",
              "      <td>Entry Alert: BTO $RH 3/26 $530.00C @ $4.50 🚩  ...</td>\n",
              "      <td>entry alert bto rh btc tsla spy</td>\n",
              "      <td>0.000000</td>\n",
              "      <td>0.000000</td>\n",
              "      <td>0.0</td>\n",
              "    </tr>\n",
              "    <tr>\n",
              "      <th>996</th>\n",
              "      <td>1375086059760025604</td>\n",
              "      <td>2021-03-25 14:03:59</td>\n",
              "      <td>New Video out on TESLA: https://t.co/SXwwwLjlV...</td>\n",
              "      <td>new video out on tesla</td>\n",
              "      <td>0.136364</td>\n",
              "      <td>0.454545</td>\n",
              "      <td>0.0</td>\n",
              "    </tr>\n",
              "    <tr>\n",
              "      <th>997</th>\n",
              "      <td>1375085932202881024</td>\n",
              "      <td>2021-03-25 14:03:28</td>\n",
              "      <td>Tesla increases price of Model 3 – its 3rd pri...</td>\n",
              "      <td>tesla increases price of model its rd price ch...</td>\n",
              "      <td>0.000000</td>\n",
              "      <td>0.000000</td>\n",
              "      <td>0.0</td>\n",
              "    </tr>\n",
              "    <tr>\n",
              "      <th>998</th>\n",
              "      <td>1375084703196217350</td>\n",
              "      <td>2021-03-25 13:58:35</td>\n",
              "      <td>I noticed this weekend that #tsla is now showi...</td>\n",
              "      <td>noticed this weekend that is now showing avail...</td>\n",
              "      <td>0.268182</td>\n",
              "      <td>0.427273</td>\n",
              "      <td>0.0</td>\n",
              "    </tr>\n",
              "    <tr>\n",
              "      <th>999</th>\n",
              "      <td>1375084524342812673</td>\n",
              "      <td>2021-03-25 13:57:53</td>\n",
              "      <td>Buy some EV stock you tight fuckers!  #solo #n...</td>\n",
              "      <td>buy some ev stock you tight fuckers</td>\n",
              "      <td>-0.178571</td>\n",
              "      <td>0.285714</td>\n",
              "      <td>-0.0</td>\n",
              "    </tr>\n",
              "  </tbody>\n",
              "</table>\n",
              "<p>1000 rows × 7 columns</p>\n",
              "</div>"
            ],
            "text/plain": [
              "                tweet_id  ... sentiment_polarity_score\n",
              "0    1377026356798701573  ...                      0.0\n",
              "1    1377025544596905986  ...                      0.0\n",
              "2    1377023613325426689  ...                     -0.0\n",
              "3    1377021617323323393  ...                      0.0\n",
              "4    1377019898510118916  ...                      0.0\n",
              "..                   ...  ...                      ...\n",
              "995  1375086911769862150  ...                      0.0\n",
              "996  1375086059760025604  ...                      0.0\n",
              "997  1375085932202881024  ...                      0.0\n",
              "998  1375084703196217350  ...                      0.0\n",
              "999  1375084524342812673  ...                     -0.0\n",
              "\n",
              "[1000 rows x 7 columns]"
            ]
          },
          "metadata": {
            "tags": []
          },
          "execution_count": 13
        }
      ]
    },
    {
      "cell_type": "code",
      "metadata": {
        "colab": {
          "base_uri": "https://localhost:8080/",
          "height": 580
        },
        "id": "ReOFttCxmYfY",
        "outputId": "d4e82679-f455-4a3a-93d9-72dd38669603"
      },
      "source": [
        "df_tweets['sentiment_polarity_bins'] = pd.cut(df_tweets['sentiment_polarity'], bins=5, labels=[1, 2, 3, 4, 5])\n",
        "df_tweets"
      ],
      "execution_count": 14,
      "outputs": [
        {
          "output_type": "execute_result",
          "data": {
            "text/html": [
              "<div>\n",
              "<style scoped>\n",
              "    .dataframe tbody tr th:only-of-type {\n",
              "        vertical-align: middle;\n",
              "    }\n",
              "\n",
              "    .dataframe tbody tr th {\n",
              "        vertical-align: top;\n",
              "    }\n",
              "\n",
              "    .dataframe thead th {\n",
              "        text-align: right;\n",
              "    }\n",
              "</style>\n",
              "<table border=\"1\" class=\"dataframe\">\n",
              "  <thead>\n",
              "    <tr style=\"text-align: right;\">\n",
              "      <th></th>\n",
              "      <th>tweet_id</th>\n",
              "      <th>date</th>\n",
              "      <th>tweet_row</th>\n",
              "      <th>tweet_clean</th>\n",
              "      <th>sentiment_polarity</th>\n",
              "      <th>sentiment_subjectivity</th>\n",
              "      <th>sentiment_polarity_score</th>\n",
              "      <th>sentiment_polarity_bins</th>\n",
              "    </tr>\n",
              "  </thead>\n",
              "  <tbody>\n",
              "    <tr>\n",
              "      <th>0</th>\n",
              "      <td>1377026356798701573</td>\n",
              "      <td>2021-03-30 22:34:02</td>\n",
              "      <td>Looking like $TSLA $BIDU $SQ $VIAC are all rec...</td>\n",
              "      <td>looking like tsla bidu sq viac are all recover...</td>\n",
              "      <td>0.130556</td>\n",
              "      <td>0.675000</td>\n",
              "      <td>0.0</td>\n",
              "      <td>3</td>\n",
              "    </tr>\n",
              "    <tr>\n",
              "      <th>1</th>\n",
              "      <td>1377025544596905986</td>\n",
              "      <td>2021-03-30 22:30:48</td>\n",
              "      <td>We did see the Nasdaq bounce higher Friday aft...</td>\n",
              "      <td>we did see the nasdaq bounce higher friday aft...</td>\n",
              "      <td>0.137500</td>\n",
              "      <td>0.437500</td>\n",
              "      <td>0.0</td>\n",
              "      <td>3</td>\n",
              "    </tr>\n",
              "    <tr>\n",
              "      <th>2</th>\n",
              "      <td>1377023613325426689</td>\n",
              "      <td>2021-03-30 22:23:07</td>\n",
              "      <td>How does everyone feel on CSCW ? #CSCW $CSCW i...</td>\n",
              "      <td>how does everyone feel on cscw cscw its listed...</td>\n",
              "      <td>-0.016667</td>\n",
              "      <td>0.600000</td>\n",
              "      <td>-0.0</td>\n",
              "      <td>3</td>\n",
              "    </tr>\n",
              "    <tr>\n",
              "      <th>3</th>\n",
              "      <td>1377021617323323393</td>\n",
              "      <td>2021-03-30 22:15:12</td>\n",
              "      <td>In this market we call it \"So bearish its has ...</td>\n",
              "      <td>in this market we call it so bearish its has t...</td>\n",
              "      <td>0.000000</td>\n",
              "      <td>0.000000</td>\n",
              "      <td>0.0</td>\n",
              "      <td>3</td>\n",
              "    </tr>\n",
              "    <tr>\n",
              "      <th>4</th>\n",
              "      <td>1377019898510118916</td>\n",
              "      <td>2021-03-30 22:08:22</td>\n",
              "      <td>I TOLD U ALL $TSLA #TSLA  #Tesla</td>\n",
              "      <td>told all tsla</td>\n",
              "      <td>0.000000</td>\n",
              "      <td>0.000000</td>\n",
              "      <td>0.0</td>\n",
              "      <td>3</td>\n",
              "    </tr>\n",
              "    <tr>\n",
              "      <th>...</th>\n",
              "      <td>...</td>\n",
              "      <td>...</td>\n",
              "      <td>...</td>\n",
              "      <td>...</td>\n",
              "      <td>...</td>\n",
              "      <td>...</td>\n",
              "      <td>...</td>\n",
              "      <td>...</td>\n",
              "    </tr>\n",
              "    <tr>\n",
              "      <th>995</th>\n",
              "      <td>1375086911769862150</td>\n",
              "      <td>2021-03-25 14:07:22</td>\n",
              "      <td>Entry Alert: BTO $RH 3/26 $530.00C @ $4.50 🚩  ...</td>\n",
              "      <td>entry alert bto rh btc tsla spy</td>\n",
              "      <td>0.000000</td>\n",
              "      <td>0.000000</td>\n",
              "      <td>0.0</td>\n",
              "      <td>3</td>\n",
              "    </tr>\n",
              "    <tr>\n",
              "      <th>996</th>\n",
              "      <td>1375086059760025604</td>\n",
              "      <td>2021-03-25 14:03:59</td>\n",
              "      <td>New Video out on TESLA: https://t.co/SXwwwLjlV...</td>\n",
              "      <td>new video out on tesla</td>\n",
              "      <td>0.136364</td>\n",
              "      <td>0.454545</td>\n",
              "      <td>0.0</td>\n",
              "      <td>3</td>\n",
              "    </tr>\n",
              "    <tr>\n",
              "      <th>997</th>\n",
              "      <td>1375085932202881024</td>\n",
              "      <td>2021-03-25 14:03:28</td>\n",
              "      <td>Tesla increases price of Model 3 – its 3rd pri...</td>\n",
              "      <td>tesla increases price of model its rd price ch...</td>\n",
              "      <td>0.000000</td>\n",
              "      <td>0.000000</td>\n",
              "      <td>0.0</td>\n",
              "      <td>3</td>\n",
              "    </tr>\n",
              "    <tr>\n",
              "      <th>998</th>\n",
              "      <td>1375084703196217350</td>\n",
              "      <td>2021-03-25 13:58:35</td>\n",
              "      <td>I noticed this weekend that #tsla is now showi...</td>\n",
              "      <td>noticed this weekend that is now showing avail...</td>\n",
              "      <td>0.268182</td>\n",
              "      <td>0.427273</td>\n",
              "      <td>0.0</td>\n",
              "      <td>3</td>\n",
              "    </tr>\n",
              "    <tr>\n",
              "      <th>999</th>\n",
              "      <td>1375084524342812673</td>\n",
              "      <td>2021-03-25 13:57:53</td>\n",
              "      <td>Buy some EV stock you tight fuckers!  #solo #n...</td>\n",
              "      <td>buy some ev stock you tight fuckers</td>\n",
              "      <td>-0.178571</td>\n",
              "      <td>0.285714</td>\n",
              "      <td>-0.0</td>\n",
              "      <td>2</td>\n",
              "    </tr>\n",
              "  </tbody>\n",
              "</table>\n",
              "<p>1000 rows × 8 columns</p>\n",
              "</div>"
            ],
            "text/plain": [
              "                tweet_id  ... sentiment_polarity_bins\n",
              "0    1377026356798701573  ...                       3\n",
              "1    1377025544596905986  ...                       3\n",
              "2    1377023613325426689  ...                       3\n",
              "3    1377021617323323393  ...                       3\n",
              "4    1377019898510118916  ...                       3\n",
              "..                   ...  ...                     ...\n",
              "995  1375086911769862150  ...                       3\n",
              "996  1375086059760025604  ...                       3\n",
              "997  1375085932202881024  ...                       3\n",
              "998  1375084703196217350  ...                       3\n",
              "999  1375084524342812673  ...                       2\n",
              "\n",
              "[1000 rows x 8 columns]"
            ]
          },
          "metadata": {
            "tags": []
          },
          "execution_count": 14
        }
      ]
    },
    {
      "cell_type": "code",
      "metadata": {
        "id": "fGit5JqJhLKI"
      },
      "source": [
        "tweet_polarity = df_tweets[\"sentiment_polarity\"].values\n",
        "tweet_subjectivity = df_tweets[\"sentiment_subjectivity\"].values"
      ],
      "execution_count": 15,
      "outputs": []
    },
    {
      "cell_type": "code",
      "metadata": {
        "id": "247E5DlBhcWx"
      },
      "source": [
        "import seaborn as sns\n",
        "import matplotlib.pyplot as plt"
      ],
      "execution_count": 16,
      "outputs": []
    },
    {
      "cell_type": "code",
      "metadata": {
        "colab": {
          "base_uri": "https://localhost:8080/",
          "height": 368
        },
        "id": "NanOW-G2iR4F",
        "outputId": "f7a8222a-9b22-4a80-aa8f-1482a869eb94"
      },
      "source": [
        "sns.scatterplot(tweet_polarity, # X-axis\n",
        "                tweet_subjectivity,  # Y-axis\n",
        "                s=100);\n",
        "\n",
        "plt.title(\"Sentiment Analysis\", fontsize = 20)\n",
        "plt.xlabel('← Negative — — — — — — Positive →', fontsize=15)\n",
        "plt.ylabel('← Facts — — — — — — — Opinions →', fontsize=15)\n",
        "plt.tight_layout()"
      ],
      "execution_count": 17,
      "outputs": [
        {
          "output_type": "stream",
          "text": [
            "/usr/local/lib/python3.7/dist-packages/seaborn/_decorators.py:43: FutureWarning: Pass the following variables as keyword args: x, y. From version 0.12, the only valid positional argument will be `data`, and passing other arguments without an explicit keyword will result in an error or misinterpretation.\n",
            "  FutureWarning\n"
          ],
          "name": "stderr"
        },
        {
          "output_type": "display_data",
          "data": {
            "image/png": "[encoded data removed]",
            "text/plain": [
              "<Figure size 432x288 with 1 Axes>"
            ]
          },
          "metadata": {
            "tags": [],
            "needs_background": "light"
          }
        }
      ]
    },
    {
      "cell_type": "code",
      "metadata": {
        "colab": {
          "base_uri": "https://localhost:8080/",
          "height": 458
        },
        "id": "g0wNOQBaiSCB",
        "outputId": "9d555578-79f1-4d75-9150-d075f59645bc"
      },
      "source": [
        "f, axs = plt.subplots(1, 2, figsize=(15,5))\n",
        "\n",
        "sns.distplot(tweet_polarity, color=\"b\", ax=axs[0])\n",
        "axs[0].set_title(\"Tweet Polarity\", fontsize = 20)\n",
        "axs[0].set_xlabel('← Negative — — — — Positive →', fontsize=15)\n",
        "sns.distplot(tweet_subjectivity, color=\"b\", ax=axs[1])\n",
        "axs[1].set_title(\"Tweet Subjectivity\", fontsize = 20)\n",
        "axs[1].set_xlabel('← Facts — — — — — Opinions →', fontsize=15)\n",
        "\n",
        "plt.tight_layout()"
      ],
      "execution_count": 18,
      "outputs": [
        {
          "output_type": "stream",
          "text": [
            "/usr/local/lib/python3.7/dist-packages/seaborn/distributions.py:2557: FutureWarning: `distplot` is a deprecated function and will be removed in a future version. Please adapt your code to use either `displot` (a figure-level function with similar flexibility) or `histplot` (an axes-level function for histograms).\n",
            "  warnings.warn(msg, FutureWarning)\n",
            "/usr/local/lib/python3.7/dist-packages/seaborn/distributions.py:2557: FutureWarning: `distplot` is a deprecated function and will be removed in a future version. Please adapt your code to use either `displot` (a figure-level function with similar flexibility) or `histplot` (an axes-level function for histograms).\n",
            "  warnings.warn(msg, FutureWarning)\n"
          ],
          "name": "stderr"
        },
        {
          "output_type": "display_data",
          "data": {
            "image/png": "[encoded data removed]",
            "text/plain": [
              "<Figure size 1080x360 with 2 Axes>"
            ]
          },
          "metadata": {
            "tags": [],
            "needs_background": "light"
          }
        }
      ]
    },
    {
      "cell_type": "code",
      "metadata": {
        "colab": {
          "base_uri": "https://localhost:8080/",
          "height": 610
        },
        "id": "AV7xmjQIjDZq",
        "outputId": "39c79173-a0b6-4e7d-8c93-865381204957"
      },
      "source": [
        "df_tweets = df_tweets.set_index(\"date\")\n",
        "# df_tweets = df_tweets.reset_index()\n",
        "df_tweets"
      ],
      "execution_count": 21,
      "outputs": [
        {
          "output_type": "execute_result",
          "data": {
            "text/html": [
              "<div>\n",
              "<style scoped>\n",
              "    .dataframe tbody tr th:only-of-type {\n",
              "        vertical-align: middle;\n",
              "    }\n",
              "\n",
              "    .dataframe tbody tr th {\n",
              "        vertical-align: top;\n",
              "    }\n",
              "\n",
              "    .dataframe thead th {\n",
              "        text-align: right;\n",
              "    }\n",
              "</style>\n",
              "<table border=\"1\" class=\"dataframe\">\n",
              "  <thead>\n",
              "    <tr style=\"text-align: right;\">\n",
              "      <th></th>\n",
              "      <th>tweet_id</th>\n",
              "      <th>tweet_row</th>\n",
              "      <th>tweet_clean</th>\n",
              "      <th>sentiment_polarity</th>\n",
              "      <th>sentiment_subjectivity</th>\n",
              "      <th>sentiment_polarity_score</th>\n",
              "      <th>sentiment_polarity_bins</th>\n",
              "    </tr>\n",
              "    <tr>\n",
              "      <th>date</th>\n",
              "      <th></th>\n",
              "      <th></th>\n",
              "      <th></th>\n",
              "      <th></th>\n",
              "      <th></th>\n",
              "      <th></th>\n",
              "      <th></th>\n",
              "    </tr>\n",
              "  </thead>\n",
              "  <tbody>\n",
              "    <tr>\n",
              "      <th>2021-03-30 22:34:02</th>\n",
              "      <td>1377026356798701573</td>\n",
              "      <td>Looking like $TSLA $BIDU $SQ $VIAC are all rec...</td>\n",
              "      <td>looking like tsla bidu sq viac are all recover...</td>\n",
              "      <td>0.130556</td>\n",
              "      <td>0.675000</td>\n",
              "      <td>0.0</td>\n",
              "      <td>3</td>\n",
              "    </tr>\n",
              "    <tr>\n",
              "      <th>2021-03-30 22:30:48</th>\n",
              "      <td>1377025544596905986</td>\n",
              "      <td>We did see the Nasdaq bounce higher Friday aft...</td>\n",
              "      <td>we did see the nasdaq bounce higher friday aft...</td>\n",
              "      <td>0.137500</td>\n",
              "      <td>0.437500</td>\n",
              "      <td>0.0</td>\n",
              "      <td>3</td>\n",
              "    </tr>\n",
              "    <tr>\n",
              "      <th>2021-03-30 22:23:07</th>\n",
              "      <td>1377023613325426689</td>\n",
              "      <td>How does everyone feel on CSCW ? #CSCW $CSCW i...</td>\n",
              "      <td>how does everyone feel on cscw cscw its listed...</td>\n",
              "      <td>-0.016667</td>\n",
              "      <td>0.600000</td>\n",
              "      <td>-0.0</td>\n",
              "      <td>3</td>\n",
              "    </tr>\n",
              "    <tr>\n",
              "      <th>2021-03-30 22:15:12</th>\n",
              "      <td>1377021617323323393</td>\n",
              "      <td>In this market we call it \"So bearish its has ...</td>\n",
              "      <td>in this market we call it so bearish its has t...</td>\n",
              "      <td>0.000000</td>\n",
              "      <td>0.000000</td>\n",
              "      <td>0.0</td>\n",
              "      <td>3</td>\n",
              "    </tr>\n",
              "    <tr>\n",
              "      <th>2021-03-30 22:08:22</th>\n",
              "      <td>1377019898510118916</td>\n",
              "      <td>I TOLD U ALL $TSLA #TSLA  #Tesla</td>\n",
              "      <td>told all tsla</td>\n",
              "      <td>0.000000</td>\n",
              "      <td>0.000000</td>\n",
              "      <td>0.0</td>\n",
              "      <td>3</td>\n",
              "    </tr>\n",
              "    <tr>\n",
              "      <th>...</th>\n",
              "      <td>...</td>\n",
              "      <td>...</td>\n",
              "      <td>...</td>\n",
              "      <td>...</td>\n",
              "      <td>...</td>\n",
              "      <td>...</td>\n",
              "      <td>...</td>\n",
              "    </tr>\n",
              "    <tr>\n",
              "      <th>2021-03-25 14:07:22</th>\n",
              "      <td>1375086911769862150</td>\n",
              "      <td>Entry Alert: BTO $RH 3/26 $530.00C @ $4.50 🚩  ...</td>\n",
              "      <td>entry alert bto rh btc tsla spy</td>\n",
              "      <td>0.000000</td>\n",
              "      <td>0.000000</td>\n",
              "      <td>0.0</td>\n",
              "      <td>3</td>\n",
              "    </tr>\n",
              "    <tr>\n",
              "      <th>2021-03-25 14:03:59</th>\n",
              "      <td>1375086059760025604</td>\n",
              "      <td>New Video out on TESLA: https://t.co/SXwwwLjlV...</td>\n",
              "      <td>new video out on tesla</td>\n",
              "      <td>0.136364</td>\n",
              "      <td>0.454545</td>\n",
              "      <td>0.0</td>\n",
              "      <td>3</td>\n",
              "    </tr>\n",
              "    <tr>\n",
              "      <th>2021-03-25 14:03:28</th>\n",
              "      <td>1375085932202881024</td>\n",
              "      <td>Tesla increases price of Model 3 – its 3rd pri...</td>\n",
              "      <td>tesla increases price of model its rd price ch...</td>\n",
              "      <td>0.000000</td>\n",
              "      <td>0.000000</td>\n",
              "      <td>0.0</td>\n",
              "      <td>3</td>\n",
              "    </tr>\n",
              "    <tr>\n",
              "      <th>2021-03-25 13:58:35</th>\n",
              "      <td>1375084703196217350</td>\n",
              "      <td>I noticed this weekend that #tsla is now showi...</td>\n",
              "      <td>noticed this weekend that is now showing avail...</td>\n",
              "      <td>0.268182</td>\n",
              "      <td>0.427273</td>\n",
              "      <td>0.0</td>\n",
              "      <td>3</td>\n",
              "    </tr>\n",
              "    <tr>\n",
              "      <th>2021-03-25 13:57:53</th>\n",
              "      <td>1375084524342812673</td>\n",
              "      <td>Buy some EV stock you tight fuckers!  #solo #n...</td>\n",
              "      <td>buy some ev stock you tight fuckers</td>\n",
              "      <td>-0.178571</td>\n",
              "      <td>0.285714</td>\n",
              "      <td>-0.0</td>\n",
              "      <td>2</td>\n",
              "    </tr>\n",
              "  </tbody>\n",
              "</table>\n",
              "<p>1000 rows × 7 columns</p>\n",
              "</div>"
            ],
            "text/plain": [
              "                                tweet_id  ... sentiment_polarity_bins\n",
              "date                                      ...                        \n",
              "2021-03-30 22:34:02  1377026356798701573  ...                       3\n",
              "2021-03-30 22:30:48  1377025544596905986  ...                       3\n",
              "2021-03-30 22:23:07  1377023613325426689  ...                       3\n",
              "2021-03-30 22:15:12  1377021617323323393  ...                       3\n",
              "2021-03-30 22:08:22  1377019898510118916  ...                       3\n",
              "...                                  ...  ...                     ...\n",
              "2021-03-25 14:07:22  1375086911769862150  ...                       3\n",
              "2021-03-25 14:03:59  1375086059760025604  ...                       3\n",
              "2021-03-25 14:03:28  1375085932202881024  ...                       3\n",
              "2021-03-25 13:58:35  1375084703196217350  ...                       3\n",
              "2021-03-25 13:57:53  1375084524342812673  ...                       2\n",
              "\n",
              "[1000 rows x 7 columns]"
            ]
          },
          "metadata": {
            "tags": []
          },
          "execution_count": 21
        }
      ]
    },
    {
      "cell_type": "code",
      "metadata": {
        "colab": {
          "base_uri": "https://localhost:8080/",
          "height": 258
        },
        "id": "KDy31Lxlyl35",
        "outputId": "534a1a70-ffc2-437f-e2f4-9eb106d9bf28"
      },
      "source": [
        "df_sentiment = df_tweets.resample('D').sum()\n",
        "df_sentiment"
      ],
      "execution_count": 22,
      "outputs": [
        {
          "output_type": "execute_result",
          "data": {
            "text/html": [
              "<div>\n",
              "<style scoped>\n",
              "    .dataframe tbody tr th:only-of-type {\n",
              "        vertical-align: middle;\n",
              "    }\n",
              "\n",
              "    .dataframe tbody tr th {\n",
              "        vertical-align: top;\n",
              "    }\n",
              "\n",
              "    .dataframe thead th {\n",
              "        text-align: right;\n",
              "    }\n",
              "</style>\n",
              "<table border=\"1\" class=\"dataframe\">\n",
              "  <thead>\n",
              "    <tr style=\"text-align: right;\">\n",
              "      <th></th>\n",
              "      <th>sentiment_polarity</th>\n",
              "      <th>sentiment_subjectivity</th>\n",
              "      <th>sentiment_polarity_score</th>\n",
              "    </tr>\n",
              "    <tr>\n",
              "      <th>date</th>\n",
              "      <th></th>\n",
              "      <th></th>\n",
              "      <th></th>\n",
              "    </tr>\n",
              "  </thead>\n",
              "  <tbody>\n",
              "    <tr>\n",
              "      <th>2021-03-25</th>\n",
              "      <td>1.886599</td>\n",
              "      <td>26.128190</td>\n",
              "      <td>1.0</td>\n",
              "    </tr>\n",
              "    <tr>\n",
              "      <th>2021-03-26</th>\n",
              "      <td>18.945108</td>\n",
              "      <td>69.456782</td>\n",
              "      <td>6.0</td>\n",
              "    </tr>\n",
              "    <tr>\n",
              "      <th>2021-03-27</th>\n",
              "      <td>9.665745</td>\n",
              "      <td>33.473634</td>\n",
              "      <td>2.0</td>\n",
              "    </tr>\n",
              "    <tr>\n",
              "      <th>2021-03-28</th>\n",
              "      <td>10.107882</td>\n",
              "      <td>33.943385</td>\n",
              "      <td>2.0</td>\n",
              "    </tr>\n",
              "    <tr>\n",
              "      <th>2021-03-29</th>\n",
              "      <td>17.637366</td>\n",
              "      <td>66.980581</td>\n",
              "      <td>10.0</td>\n",
              "    </tr>\n",
              "    <tr>\n",
              "      <th>2021-03-30</th>\n",
              "      <td>22.476238</td>\n",
              "      <td>69.017638</td>\n",
              "      <td>15.0</td>\n",
              "    </tr>\n",
              "  </tbody>\n",
              "</table>\n",
              "</div>"
            ],
            "text/plain": [
              "            sentiment_polarity  ...  sentiment_polarity_score\n",
              "date                            ...                          \n",
              "2021-03-25            1.886599  ...                       1.0\n",
              "2021-03-26           18.945108  ...                       6.0\n",
              "2021-03-27            9.665745  ...                       2.0\n",
              "2021-03-28           10.107882  ...                       2.0\n",
              "2021-03-29           17.637366  ...                      10.0\n",
              "2021-03-30           22.476238  ...                      15.0\n",
              "\n",
              "[6 rows x 3 columns]"
            ]
          },
          "metadata": {
            "tags": []
          },
          "execution_count": 22
        }
      ]
    },
    {
      "cell_type": "code",
      "metadata": {
        "colab": {
          "base_uri": "https://localhost:8080/",
          "height": 320
        },
        "id": "wkIXcvhF0eeg",
        "outputId": "5441ebed-bab2-4b5d-e5c4-d593137256ff"
      },
      "source": [
        "df_tweets.resample('D').sum().plot()"
      ],
      "execution_count": 23,
      "outputs": [
        {
          "output_type": "execute_result",
          "data": {
            "text/plain": [
              "<matplotlib.axes._subplots.AxesSubplot at 0x7f1ab3725150>"
            ]
          },
          "metadata": {
            "tags": []
          },
          "execution_count": 23
        },
        {
          "output_type": "display_data",
          "data": {
            "image/png": "[encoded data removed]",
            "text/plain": [
              "<Figure size 432x288 with 1 Axes>"
            ]
          },
          "metadata": {
            "tags": [],
            "needs_background": "light"
          }
        }
      ]
    },
    {
      "cell_type": "code",
      "metadata": {
        "colab": {
          "base_uri": "https://localhost:8080/"
        },
        "id": "KLu9KJod1pwR",
        "outputId": "b64353fa-37c7-4fac-9340-8c5b1074733a"
      },
      "source": [
        "min = df_tweets.index.min()\n",
        "max = df_tweets.index.max()\n",
        "max"
      ],
      "execution_count": 24,
      "outputs": [
        {
          "output_type": "execute_result",
          "data": {
            "text/plain": [
              "Timestamp('2021-03-30 22:34:02')"
            ]
          },
          "metadata": {
            "tags": []
          },
          "execution_count": 24
        }
      ]
    },
    {
      "cell_type": "code",
      "metadata": {
        "colab": {
          "base_uri": "https://localhost:8080/",
          "height": 198
        },
        "id": "UdDz5wtZ09Nm",
        "outputId": "984fc1b3-7eb0-41b1-ebb3-0374d118a453"
      },
      "source": [
        "import pandas_datareader.data as web\n",
        "df_TSLA = web.DataReader(name=\"TSLA\", data_source=\"stooq\", start=min, end=max)\n",
        "df_TSLA"
      ],
      "execution_count": 25,
      "outputs": [
        {
          "output_type": "execute_result",
          "data": {
            "text/html": [
              "<div>\n",
              "<style scoped>\n",
              "    .dataframe tbody tr th:only-of-type {\n",
              "        vertical-align: middle;\n",
              "    }\n",
              "\n",
              "    .dataframe tbody tr th {\n",
              "        vertical-align: top;\n",
              "    }\n",
              "\n",
              "    .dataframe thead th {\n",
              "        text-align: right;\n",
              "    }\n",
              "</style>\n",
              "<table border=\"1\" class=\"dataframe\">\n",
              "  <thead>\n",
              "    <tr style=\"text-align: right;\">\n",
              "      <th></th>\n",
              "      <th>Open</th>\n",
              "      <th>High</th>\n",
              "      <th>Low</th>\n",
              "      <th>Close</th>\n",
              "      <th>Volume</th>\n",
              "    </tr>\n",
              "    <tr>\n",
              "      <th>Date</th>\n",
              "      <th></th>\n",
              "      <th></th>\n",
              "      <th></th>\n",
              "      <th></th>\n",
              "      <th></th>\n",
              "    </tr>\n",
              "  </thead>\n",
              "  <tbody>\n",
              "    <tr>\n",
              "      <th>2021-03-30</th>\n",
              "      <td>601.75</td>\n",
              "      <td>637.66</td>\n",
              "      <td>591.01</td>\n",
              "      <td>635.62</td>\n",
              "      <td>39250449</td>\n",
              "    </tr>\n",
              "    <tr>\n",
              "      <th>2021-03-29</th>\n",
              "      <td>615.64</td>\n",
              "      <td>616.48</td>\n",
              "      <td>596.02</td>\n",
              "      <td>611.29</td>\n",
              "      <td>28636985</td>\n",
              "    </tr>\n",
              "    <tr>\n",
              "      <th>2021-03-26</th>\n",
              "      <td>641.87</td>\n",
              "      <td>643.82</td>\n",
              "      <td>599.89</td>\n",
              "      <td>618.71</td>\n",
              "      <td>33852827</td>\n",
              "    </tr>\n",
              "    <tr>\n",
              "      <th>2021-03-25</th>\n",
              "      <td>613.00</td>\n",
              "      <td>645.50</td>\n",
              "      <td>609.50</td>\n",
              "      <td>640.39</td>\n",
              "      <td>39224850</td>\n",
              "    </tr>\n",
              "  </tbody>\n",
              "</table>\n",
              "</div>"
            ],
            "text/plain": [
              "              Open    High     Low   Close    Volume\n",
              "Date                                                \n",
              "2021-03-30  601.75  637.66  591.01  635.62  39250449\n",
              "2021-03-29  615.64  616.48  596.02  611.29  28636985\n",
              "2021-03-26  641.87  643.82  599.89  618.71  33852827\n",
              "2021-03-25  613.00  645.50  609.50  640.39  39224850"
            ]
          },
          "metadata": {
            "tags": []
          },
          "execution_count": 25
        }
      ]
    },
    {
      "cell_type": "code",
      "metadata": {
        "colab": {
          "base_uri": "https://localhost:8080/",
          "height": 302
        },
        "id": "L9rWB2lC18xd",
        "outputId": "5b27f277-4c11-4650-a54b-79fa94afcf11"
      },
      "source": [
        "df_TSLA[[\"Open\",\"Close\"]].plot()"
      ],
      "execution_count": 26,
      "outputs": [
        {
          "output_type": "execute_result",
          "data": {
            "text/plain": [
              "<matplotlib.axes._subplots.AxesSubplot at 0x7f1ab3a03750>"
            ]
          },
          "metadata": {
            "tags": []
          },
          "execution_count": 26
        },
        {
          "output_type": "display_data",
          "data": {
            "image/png": "[encoded data removed]",
            "text/plain": [
              "<Figure size 432x288 with 1 Axes>"
            ]
          },
          "metadata": {
            "tags": [],
            "needs_background": "light"
          }
        }
      ]
    },
    {
      "cell_type": "markdown",
      "metadata": {
        "id": "RUE1x61p_p-q"
      },
      "source": [
        "`Giełda nie działa w weekend, przez co ma "
      ]
    },
    {
      "cell_type": "code",
      "metadata": {
        "colab": {
          "base_uri": "https://localhost:8080/",
          "height": 168
        },
        "id": "IcchZgUC-Q1N",
        "outputId": "f59991c4-9523-4fee-fe69-796c90063530"
      },
      "source": [
        "df_merge = df_TSLA[[\"Open\",\"Close\"]].merge(df_sentiment[\"sentiment_polarity\"], left_index=True, right_index=True)\n",
        "df_merge"
      ],
      "execution_count": 27,
      "outputs": [
        {
          "output_type": "execute_result",
          "data": {
            "text/html": [
              "<div>\n",
              "<style scoped>\n",
              "    .dataframe tbody tr th:only-of-type {\n",
              "        vertical-align: middle;\n",
              "    }\n",
              "\n",
              "    .dataframe tbody tr th {\n",
              "        vertical-align: top;\n",
              "    }\n",
              "\n",
              "    .dataframe thead th {\n",
              "        text-align: right;\n",
              "    }\n",
              "</style>\n",
              "<table border=\"1\" class=\"dataframe\">\n",
              "  <thead>\n",
              "    <tr style=\"text-align: right;\">\n",
              "      <th></th>\n",
              "      <th>Open</th>\n",
              "      <th>Close</th>\n",
              "      <th>sentiment_polarity</th>\n",
              "    </tr>\n",
              "  </thead>\n",
              "  <tbody>\n",
              "    <tr>\n",
              "      <th>2021-03-30</th>\n",
              "      <td>601.75</td>\n",
              "      <td>635.62</td>\n",
              "      <td>22.476238</td>\n",
              "    </tr>\n",
              "    <tr>\n",
              "      <th>2021-03-29</th>\n",
              "      <td>615.64</td>\n",
              "      <td>611.29</td>\n",
              "      <td>17.637366</td>\n",
              "    </tr>\n",
              "    <tr>\n",
              "      <th>2021-03-26</th>\n",
              "      <td>641.87</td>\n",
              "      <td>618.71</td>\n",
              "      <td>18.945108</td>\n",
              "    </tr>\n",
              "    <tr>\n",
              "      <th>2021-03-25</th>\n",
              "      <td>613.00</td>\n",
              "      <td>640.39</td>\n",
              "      <td>1.886599</td>\n",
              "    </tr>\n",
              "  </tbody>\n",
              "</table>\n",
              "</div>"
            ],
            "text/plain": [
              "              Open   Close  sentiment_polarity\n",
              "2021-03-30  601.75  635.62           22.476238\n",
              "2021-03-29  615.64  611.29           17.637366\n",
              "2021-03-26  641.87  618.71           18.945108\n",
              "2021-03-25  613.00  640.39            1.886599"
            ]
          },
          "metadata": {
            "tags": []
          },
          "execution_count": 27
        }
      ]
    },
    {
      "cell_type": "code",
      "metadata": {
        "colab": {
          "base_uri": "https://localhost:8080/",
          "height": 396
        },
        "id": "PIg_KFiD6_wJ",
        "outputId": "b6763da7-9047-425e-a850-34147492f80e"
      },
      "source": [
        "# create figure and axis objects with subplots()\n",
        "fig,ax = plt.subplots()\n",
        "\n",
        "plt.title('Tesla - Stock Rate vs Sentiment Polarity ') # tytuł\n",
        "plt.style.use(\"seaborn\")  # nadaje kratownice fajne\n",
        "plt.xticks(rotation=45)\n",
        "\n",
        "\n",
        "# make a plot\n",
        "ax.plot(df_merge.index,    # dane źródło 1\n",
        "            df_merge[\"Open\"],\n",
        "        color=\"green\",\n",
        "        marker=\"o\",\n",
        "         label=\"Open\"\n",
        "         )\n",
        "# set x-axis label\n",
        "plt.legend()\n",
        "# make a plot\n",
        "ax.plot(df_merge.index,    # dane źródło 1\n",
        "            df_merge[\"Close\"],\n",
        "        color=\"red\",\n",
        "        marker=\"o\",\n",
        "         label=\"Close\")\n",
        "ax.set_ylabel(\"Stock\",color=\"red\",fontsize=14)\n",
        "plt.legend()\n",
        "# twin object for two different y-axis on the sample plot\n",
        "ax2=ax.twinx()\n",
        "# make a plot with different y-axis using second axis object\n",
        "ax2.plot(df_merge.index,    # dane źródło 1\n",
        "            df_merge[\"sentiment_polarity\"], \n",
        "         color=\"blue\",\n",
        "         marker=\"o\",\n",
        "        #  label=\"sentiment polarity\"\n",
        "         )\n",
        "ax2.set_ylabel(\"Sentiment\",color=\"blue\",fontsize=14)\n",
        "# plt.legend()\n",
        "plt.show()\n"
      ],
      "execution_count": 30,
      "outputs": [
        {
          "output_type": "display_data",
          "data": {
            "image/png": "[encoded data removed]",
            "text/plain": [
              "<Figure size 576x396 with 2 Axes>"
            ]
          },
          "metadata": {
            "tags": []
          }
        }
      ]
    },
    {
      "cell_type": "code",
      "metadata": {
        "id": "58CJxAfQBKQN"
      },
      "source": [
        ""
      ],
      "execution_count": 28,
      "outputs": []
    }
  ]
}